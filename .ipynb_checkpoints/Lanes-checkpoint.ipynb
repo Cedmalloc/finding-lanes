{
 "cells": [
  {
   "cell_type": "code",
   "execution_count": 15,
   "metadata": {},
   "outputs": [
    {
     "name": "stdout",
     "output_type": "stream",
     "text": [
      "[[ 200  500]\n",
      " [1100  500]\n",
      " [ 550  250]]\n",
      "(3, 2)\n"
     ]
    }
   ],
   "source": [
    "import numpy as np\n",
    "heigth = 500\n",
    "polygons = np.array([ (200, heigth) , (1100 , heigth) , (550,250) ])\n",
    "print(polygons)\n",
    "print(polygons.shape)\n",
    "polygons.resize(1,3,2)"
   ]
  },
  {
   "cell_type": "code",
   "execution_count": 10,
   "metadata": {},
   "outputs": [
    {
     "name": "stdout",
     "output_type": "stream",
     "text": [
      "[[[[ 200  500]\n",
      "   [1100  500]\n",
      "   [ 550  250]]]]\n"
     ]
    }
   ],
   "source": [
    "polygons = np.array([[ (200, heigth) , (1100 , heigth) , (550,250) ]])\n",
    "print(polygons)"
   ]
  },
  {
   "cell_type": "code",
   "execution_count": 6,
   "metadata": {},
   "outputs": [
    {
     "name": "stdout",
     "output_type": "stream",
     "text": [
      "(1, 3, 2)\n"
     ]
    }
   ],
   "source": [
    "print(polygons.shape)"
   ]
  },
  {
   "cell_type": "code",
   "execution_count": null,
   "metadata": {},
   "outputs": [],
   "source": []
  }
 ],
 "metadata": {
  "kernelspec": {
   "display_name": "Python 3",
   "language": "python",
   "name": "python3"
  },
  "language_info": {
   "codemirror_mode": {
    "name": "ipython",
    "version": 3
   },
   "file_extension": ".py",
   "mimetype": "text/x-python",
   "name": "python",
   "nbconvert_exporter": "python",
   "pygments_lexer": "ipython3",
   "version": "3.7.1"
  }
 },
 "nbformat": 4,
 "nbformat_minor": 2
}
